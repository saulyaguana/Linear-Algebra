{
 "cells": [
  {
   "cell_type": "code",
   "execution_count": 4,
   "id": "8573c2e0-56ef-45c5-a868-04b42a2af3d4",
   "metadata": {},
   "outputs": [],
   "source": [
    "import numpy as np\n",
    "import matplotlib.pyplot as plt"
   ]
  },
  {
   "cell_type": "code",
   "execution_count": 5,
   "id": "0c9b203c-c884-4ade-9886-1f7a821b26dc",
   "metadata": {},
   "outputs": [
    {
     "name": "stdout",
     "output_type": "stream",
     "text": [
      "[4 8 6 3]\n"
     ]
    }
   ],
   "source": [
    "vector = np.array([4, 8, 6, 3])\n",
    "print(vector)"
   ]
  },
  {
   "cell_type": "code",
   "execution_count": 6,
   "id": "c5d334bb-a526-483e-8d22-e191e75ed414",
   "metadata": {},
   "outputs": [
    {
     "name": "stdout",
     "output_type": "stream",
     "text": [
      "[[56 14 23  4]\n",
      " [11 44 79  8]\n",
      " [55 61 13 90]]\n"
     ]
    }
   ],
   "source": [
    "matriz = np.array([[56, 14, 23, 4], [11, 44, 79, 8], [55, 61, 13, 90]])\n",
    "print(matriz)"
   ]
  },
  {
   "cell_type": "code",
   "execution_count": 7,
   "id": "dd7d5395-0b21-4a42-b197-652c3b293d97",
   "metadata": {},
   "outputs": [
    {
     "name": "stdout",
     "output_type": "stream",
     "text": [
      "[[[23 56 14  9]\n",
      "  [59 99 11 42]\n",
      "  [17 42 98 23]]\n",
      "\n",
      " [[ 1  0  5 34]\n",
      "  [60 34 56 15]\n",
      "  [12 50 34 65]]\n",
      "\n",
      " [[ 9  5  1  0]\n",
      "  [67  4 98  2]\n",
      "  [15 77 34 21]]]\n"
     ]
    }
   ],
   "source": [
    "tensor = np.array([\n",
    "    [[23, 56, 14, 9], [59, 99, 11, 42], [17, 42, 98, 23]],\n",
    "    [[1, 0, 5, 34], [60, 34, 56, 15], [12, 50, 34, 65]],\n",
    "    [[9, 5, 1, 0], [67, 4, 98, 2], [15, 77, 34, 21]]\n",
    "])\n",
    "print(tensor)"
   ]
  },
  {
   "cell_type": "code",
   "execution_count": 9,
   "id": "8e597434-16dd-40fd-a72e-8901f3114857",
   "metadata": {},
   "outputs": [
    {
     "data": {
      "text/plain": [
       "65"
      ]
     },
     "execution_count": 9,
     "metadata": {},
     "output_type": "execute_result"
    }
   ],
   "source": [
    "# Accediendo a un elemento específico del tensor\n",
    "tensor[1, 2, 3]"
   ]
  },
  {
   "cell_type": "code",
   "execution_count": 14,
   "id": "d87e84cc-b6a0-4269-8317-d75b4e219f7b",
   "metadata": {},
   "outputs": [
    {
     "data": {
      "text/plain": [
       "array([[ 4, 98,  2],\n",
       "       [77, 34, 21]])"
      ]
     },
     "execution_count": 14,
     "metadata": {},
     "output_type": "execute_result"
    }
   ],
   "source": [
    "# Accediendo a un conjunto de elementos del tensor\n",
    "tensor[2, 1:, 1:]"
   ]
  },
  {
   "cell_type": "code",
   "execution_count": 17,
   "id": "29a1272f-bf50-45cc-8ea7-18316b801524",
   "metadata": {},
   "outputs": [
    {
     "data": {
      "image/png": "[encoded data removed]",
      "text/plain": [
       "<Figure size 432x288 with 1 Axes>"
      ]
     },
     "metadata": {
      "needs_background": "light"
     },
     "output_type": "display_data"
    }
   ],
   "source": [
    "fig, axes = plt.subplots()\n",
    "axes.imshow(tensor, interpolation='nearest')\n",
    "plt.show()"
   ]
  },
  {
   "cell_type": "code",
   "execution_count": 18,
   "id": "7fcd6e83-b936-4fd4-957b-98b5ff454315",
   "metadata": {},
   "outputs": [],
   "source": [
    "tensor = np.array([\n",
    "    [[245, 200, 123], [56, 100, 48], [150, 175, 200]],\n",
    "    [[10, 55, 58], [200, 210, 167], [168, 45, 125]],\n",
    "    [[34, 127, 88], [99, 100, 123], [11, 56, 190]]\n",
    "])"
   ]
  },
  {
   "cell_type": "code",
   "execution_count": 20,
   "id": "8c007635-8ab0-449e-9907-411a661aa6d4",
   "metadata": {},
   "outputs": [
    {
     "data": {
      "image/png": "[encoded data removed]",
      "text/plain": [
       "<Figure size 576x432 with 1 Axes>"
      ]
     },
     "metadata": {
      "needs_background": "light"
     },
     "output_type": "display_data"
    }
   ],
   "source": [
    "fig, axes = plt.subplots(figsize=(8, 6))\n",
    "axes.imshow(tensor, interpolation='nearest')\n",
    "plt.show()"
   ]
  },
  {
   "cell_type": "code",
   "execution_count": null,
   "id": "d2740945-12c3-4102-ac12-8b4c0cfd665b",
   "metadata": {},
   "outputs": [],
   "source": []
  }
 ],
 "metadata": {
  "kernelspec": {
   "display_name": "Python 3 (ipykernel)",
   "language": "python",
   "name": "python3"
  },
  "language_info": {
   "codemirror_mode": {
    "name": "ipython",
    "version": 3
   },
   "file_extension": ".py",
   "mimetype": "text/x-python",
   "name": "python",
   "nbconvert_exporter": "python",
   "pygments_lexer": "ipython3",
   "version": "3.9.12"
  }
 },
 "nbformat": 4,
 "nbformat_minor": 5
}
