{
 "cells": [
  {
   "cell_type": "markdown",
   "id": "c7e97d19-3859-4e01-a1ea-a532541ebe1a",
   "metadata": {},
   "source": [
    "# Matrices Identidad, Inversa y Singular"
   ]
  },
  {
   "cell_type": "code",
   "execution_count": 1,
   "id": "e946593e-70c9-4f34-849f-cbadf556b995",
   "metadata": {},
   "outputs": [],
   "source": [
    "import numpy as np"
   ]
  },
  {
   "cell_type": "code",
   "execution_count": 2,
   "id": "a9b993cb-7afb-46a3-8e4b-b6c26f76d5f4",
   "metadata": {},
   "outputs": [
    {
     "name": "stdout",
     "output_type": "stream",
     "text": [
      "[[1. 0. 0. 0.]\n",
      " [0. 1. 0. 0.]\n",
      " [0. 0. 1. 0.]\n",
      " [0. 0. 0. 1.]]\n"
     ]
    }
   ],
   "source": [
    "# Matriz Identidad\n",
    "identidad = np.eye(4)\n",
    "print(identidad)"
   ]
  },
  {
   "cell_type": "code",
   "execution_count": 3,
   "id": "87d10304-a259-4eb1-8aad-86350c1a747c",
   "metadata": {},
   "outputs": [
    {
     "name": "stdout",
     "output_type": "stream",
     "text": [
      "[[2]\n",
      " [3]\n",
      " [5]\n",
      " [7]]\n"
     ]
    }
   ],
   "source": [
    "vector = np.array([[2], [3], [5], [7]])\n",
    "print(vector)"
   ]
  },
  {
   "cell_type": "code",
   "execution_count": 4,
   "id": "e412962c-3269-4697-9f6d-4d38e61fdc1f",
   "metadata": {},
   "outputs": [
    {
     "name": "stdout",
     "output_type": "stream",
     "text": [
      "[[2.]\n",
      " [3.]\n",
      " [5.]\n",
      " [7.]]\n"
     ]
    }
   ],
   "source": [
    " # Identidad * Vector = Vector\n",
    "# La matriz identidad es el elemento neutro en las matrices\n",
    "\n",
    "print(identidad.dot(vector))"
   ]
  },
  {
   "cell_type": "markdown",
   "id": "ff30e00e-1753-48b3-bb60-e1e9e95cc490",
   "metadata": {},
   "source": [
    "### Inversa"
   ]
  },
  {
   "cell_type": "code",
   "execution_count": 5,
   "id": "57261b5e-33a2-4e06-b7bc-8f25c5aae862",
   "metadata": {},
   "outputs": [
    {
     "name": "stdout",
     "output_type": "stream",
     "text": [
      "[[ 1  0  1]\n",
      " [ 0  1  1]\n",
      " [-1  1  1]]\n"
     ]
    }
   ],
   "source": [
    "A = np.array([[1, 0, 1], [0, 1, 1], [-1, 1, 1]])\n",
    "print(A)"
   ]
  },
  {
   "cell_type": "code",
   "execution_count": 6,
   "id": "d278b24a-3719-407d-b4d6-ffb5900d896e",
   "metadata": {},
   "outputs": [
    {
     "data": {
      "text/plain": [
       "array([[ 0.,  1., -1.],\n",
       "       [-1.,  2., -1.],\n",
       "       [ 1., -1.,  1.]])"
      ]
     },
     "execution_count": 6,
     "metadata": {},
     "output_type": "execute_result"
    }
   ],
   "source": [
    "np.linalg.inv(A)"
   ]
  },
  {
   "cell_type": "code",
   "execution_count": 8,
   "id": "60ca6dc9-e5e1-467b-82f6-45f3e2b72456",
   "metadata": {},
   "outputs": [
    {
     "name": "stdout",
     "output_type": "stream",
     "text": [
      "[[1. 0. 0.]\n",
      " [0. 1. 0.]\n",
      " [0. 0. 1.]]\n"
     ]
    }
   ],
   "source": [
    "# Devuelve la identidad: Matriz * Su_Inversa\n",
    "print(A.dot(np.linalg.inv(A)))"
   ]
  },
  {
   "cell_type": "markdown",
   "id": "5745a2ae-495d-41c4-bc2f-97bd7d36b6b0",
   "metadata": {},
   "source": [
    "### Matriz Singular\n",
    "\n",
    "+ Cuando no hay la inversa se llama matriz singualar"
   ]
  },
  {
   "cell_type": "code",
   "execution_count": 11,
   "id": "740573ee-e479-4012-bdb6-67cc69bd04c2",
   "metadata": {},
   "outputs": [
    {
     "name": "stdout",
     "output_type": "stream",
     "text": [
      "[[1 1]\n",
      " [1 1]]\n"
     ]
    }
   ],
   "source": [
    "singular = np.array([[1, 1], [1, 1]])\n",
    "print(singular)"
   ]
  },
  {
   "cell_type": "code",
   "execution_count": 13,
   "id": "e5656fda-65b4-47f2-85d1-982d0c6e645c",
   "metadata": {},
   "outputs": [],
   "source": [
    "# Error\n",
    "# np.linalg.inv(singular)"
   ]
  }
 ],
 "metadata": {
  "kernelspec": {
   "display_name": "Python 3 (ipykernel)",
   "language": "python",
   "name": "python3"
  },
  "language_info": {
   "codemirror_mode": {
    "name": "ipython",
    "version": 3
   },
   "file_extension": ".py",
   "mimetype": "text/x-python",
   "name": "python",
   "nbconvert_exporter": "python",
   "pygments_lexer": "ipython3",
   "version": "3.9.12"
  }
 },
 "nbformat": 4,
 "nbformat_minor": 5
}
