{
 "cells": [
  {
   "cell_type": "code",
   "execution_count": 1,
   "id": "3eb55573-e8bb-47e6-938f-01ec57a46114",
   "metadata": {},
   "outputs": [],
   "source": [
    "import numpy as np\n",
    "import matplotlib.pyplot as plt"
   ]
  },
  {
   "cell_type": "code",
   "execution_count": 2,
   "id": "bdb06e9b-17de-404c-9504-f770c9bf107f",
   "metadata": {},
   "outputs": [],
   "source": [
    "v1 = np.array([2, 5])\n",
    "v2 = np.array([3, 2])"
   ]
  },
  {
   "cell_type": "code",
   "execution_count": 9,
   "id": "b8d35c43-a234-4fa7-9748-5bd2bb9fc05f",
   "metadata": {},
   "outputs": [],
   "source": [
    "def graficar(vecs, cols, alpha=1):\n",
    "    plt.figure()\n",
    "    plt.axvline(x=0, color=\"#333\", zorder=0)\n",
    "    plt.axhline(y=0, color=\"#333\", zorder=0)\n",
    "    \n",
    "    for i in range(len(vecs)):\n",
    "        x = np.concatenate([[0, 0], vecs[i]])\n",
    "        plt.quiver([x[0]],\n",
    "                   [x[1]],\n",
    "                   [x[2]],\n",
    "                   [x[3]],\n",
    "                   angles='xy', scale_units='xy', scale=1, color=cols[i], alpha=alpha)"
   ]
  },
  {
   "cell_type": "code",
   "execution_count": 12,
   "id": "41e6c241-4b9e-409d-b5fb-55850778a95e",
   "metadata": {},
   "outputs": [
    {
     "data": {
      "text/plain": [
       "(-1.0, 8.0)"
      ]
     },
     "execution_count": 12,
     "metadata": {},
     "output_type": "execute_result"
    },
    {
     "data": {
      "image/png": "[encoded data removed]",
      "text/plain": [
       "<Figure size 432x288 with 1 Axes>"
      ]
     },
     "metadata": {
      "needs_background": "light"
     },
     "output_type": "display_data"
    }
   ],
   "source": [
    "graficar([v1, v2], [\"orange\", \"blue\"])\n",
    "plt.xlim(-1, 8)\n",
    "plt.ylim(-1, 8)"
   ]
  }
 ],
 "metadata": {
  "kernelspec": {
   "display_name": "Python 3 (ipykernel)",
   "language": "python",
   "name": "python3"
  },
  "language_info": {
   "codemirror_mode": {
    "name": "ipython",
    "version": 3
   },
   "file_extension": ".py",
   "mimetype": "text/x-python",
   "name": "python",
   "nbconvert_exporter": "python",
   "pygments_lexer": "ipython3",
   "version": "3.9.12"
  }
 },
 "nbformat": 4,
 "nbformat_minor": 5
}
