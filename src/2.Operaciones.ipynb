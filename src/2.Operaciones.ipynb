{
 "cells": [
  {
   "cell_type": "code",
   "execution_count": 1,
   "id": "1c59e93d-85ab-449f-99f4-bfbf13d623d2",
   "metadata": {},
   "outputs": [],
   "source": [
    "import numpy as np"
   ]
  },
  {
   "cell_type": "code",
   "execution_count": 17,
   "id": "aefda752-b662-4229-912e-12506ae7d104",
   "metadata": {},
   "outputs": [],
   "source": [
    "scalar = 5.65\n",
    "vector = np.array([5, 9, 2])\n",
    "matriz = np.array([[45, 67, 1], [11, 28, 0], [8, 14, 3], [5, 6, 0]])\n",
    "tensor = np.array([\n",
    "    [[34, 56, 78], [98, 34, 1], [45, 12, 53]],\n",
    "    [[50, 89, 23], [1, 0, 34], [45, 29, 46]],\n",
    "    [[12, 45, 23], [87, 45, 12], [17, 89, 2]]\n",
    "])"
   ]
  },
  {
   "cell_type": "code",
   "execution_count": 18,
   "id": "1319e0f0-b3c2-4cf1-aef9-f63e1dd7270f",
   "metadata": {},
   "outputs": [
    {
     "data": {
      "text/plain": [
       "(3,)"
      ]
     },
     "execution_count": 18,
     "metadata": {},
     "output_type": "execute_result"
    }
   ],
   "source": [
    "vector.shape"
   ]
  },
  {
   "cell_type": "code",
   "execution_count": 19,
   "id": "9c8c346b-dcb3-427e-9ca5-fb3e9de866d1",
   "metadata": {},
   "outputs": [
    {
     "name": "stdout",
     "output_type": "stream",
     "text": [
      "[5 9 2]\n"
     ]
    }
   ],
   "source": [
    "print(vector)"
   ]
  },
  {
   "cell_type": "code",
   "execution_count": 20,
   "id": "93c3733f-f664-458d-b4b2-853bd8bfd9fb",
   "metadata": {},
   "outputs": [
    {
     "name": "stdout",
     "output_type": "stream",
     "text": [
      "<class 'tuple'>\n"
     ]
    }
   ],
   "source": [
    "print(type(vector.shape))"
   ]
  },
  {
   "cell_type": "code",
   "execution_count": 21,
   "id": "27267dcc-c1e0-4ce6-bd1a-b6789d3ef1a3",
   "metadata": {},
   "outputs": [
    {
     "data": {
      "text/plain": [
       "3"
      ]
     },
     "execution_count": 21,
     "metadata": {},
     "output_type": "execute_result"
    }
   ],
   "source": [
    "len(vector)"
   ]
  },
  {
   "cell_type": "markdown",
   "id": "9e48ddd1-a7b9-4b8b-b931-3dbb2700fd1f",
   "metadata": {},
   "source": [
    "+ **len()** devuelve menos información que el comando **shape**\n",
    "+ **shape** dice que no tiene mas dimensiones\n",
    "+ **len()** solo devuelve un 3"
   ]
  },
  {
   "cell_type": "code",
   "execution_count": 22,
   "id": "a849ead1-e870-4b8b-8a15-e106a76afff6",
   "metadata": {},
   "outputs": [
    {
     "data": {
      "text/plain": [
       "array([[45, 67,  1],\n",
       "       [11, 28,  0],\n",
       "       [ 8, 14,  3],\n",
       "       [ 5,  6,  0]])"
      ]
     },
     "execution_count": 22,
     "metadata": {},
     "output_type": "execute_result"
    }
   ],
   "source": [
    "matriz"
   ]
  },
  {
   "cell_type": "code",
   "execution_count": 23,
   "id": "1ef63bf2-4bad-4ccd-8c6e-adcad98cac6a",
   "metadata": {},
   "outputs": [
    {
     "data": {
      "text/plain": [
       "(4, 3)"
      ]
     },
     "execution_count": 23,
     "metadata": {},
     "output_type": "execute_result"
    }
   ],
   "source": [
    "matriz.shape"
   ]
  },
  {
   "cell_type": "code",
   "execution_count": 24,
   "id": "5846fbaa-a2de-4c09-b81f-a7f14bc153bb",
   "metadata": {},
   "outputs": [
    {
     "data": {
      "text/plain": [
       "4"
      ]
     },
     "execution_count": 24,
     "metadata": {},
     "output_type": "execute_result"
    }
   ],
   "source": [
    "len(matriz)"
   ]
  },
  {
   "cell_type": "code",
   "execution_count": 25,
   "id": "793f56ff-0630-43c2-9b16-2b032c3695e4",
   "metadata": {},
   "outputs": [
    {
     "data": {
      "text/plain": [
       "12"
      ]
     },
     "execution_count": 25,
     "metadata": {},
     "output_type": "execute_result"
    }
   ],
   "source": [
    "# Devuelve la multiplicación de las dimensiones, la cantidad total de la matriz\n",
    "matriz.size"
   ]
  },
  {
   "cell_type": "code",
   "execution_count": 29,
   "id": "fb7db405-9b91-4584-9f45-b313edb7c36d",
   "metadata": {},
   "outputs": [
    {
     "data": {
      "text/plain": [
       "array([[[34, 56, 78],\n",
       "        [98, 34,  1],\n",
       "        [45, 12, 53]],\n",
       "\n",
       "       [[50, 89, 23],\n",
       "        [ 1,  0, 34],\n",
       "        [45, 29, 46]],\n",
       "\n",
       "       [[12, 45, 23],\n",
       "        [87, 45, 12],\n",
       "        [17, 89,  2]]])"
      ]
     },
     "execution_count": 29,
     "metadata": {},
     "output_type": "execute_result"
    }
   ],
   "source": [
    "tensor"
   ]
  },
  {
   "cell_type": "code",
   "execution_count": 26,
   "id": "ff95028d-5be4-4888-8346-79aa3cf87fa4",
   "metadata": {},
   "outputs": [
    {
     "data": {
      "text/plain": [
       "(3, 3, 3)"
      ]
     },
     "execution_count": 26,
     "metadata": {},
     "output_type": "execute_result"
    }
   ],
   "source": [
    "tensor.shape"
   ]
  },
  {
   "cell_type": "code",
   "execution_count": 27,
   "id": "3cde964d-4193-476c-9ad8-73589a5ae030",
   "metadata": {},
   "outputs": [
    {
     "data": {
      "text/plain": [
       "27"
      ]
     },
     "execution_count": 27,
     "metadata": {},
     "output_type": "execute_result"
    }
   ],
   "source": [
    "tensor.size"
   ]
  },
  {
   "cell_type": "code",
   "execution_count": 28,
   "id": "7b3f2166-c8d0-4bc8-bb73-bb002f62f8f8",
   "metadata": {},
   "outputs": [
    {
     "data": {
      "text/plain": [
       "3"
      ]
     },
     "execution_count": 28,
     "metadata": {},
     "output_type": "execute_result"
    }
   ],
   "source": [
    "len(tensor)"
   ]
  },
  {
   "cell_type": "code",
   "execution_count": null,
   "id": "3def24d6-8f90-4ea8-8b99-0baa1162df5d",
   "metadata": {},
   "outputs": [],
   "source": []
  }
 ],
 "metadata": {
  "kernelspec": {
   "display_name": "Python 3 (ipykernel)",
   "language": "python",
   "name": "python3"
  },
  "language_info": {
   "codemirror_mode": {
    "name": "ipython",
    "version": 3
   },
   "file_extension": ".py",
   "mimetype": "text/x-python",
   "name": "python",
   "nbconvert_exporter": "python",
   "pygments_lexer": "ipython3",
   "version": "3.9.12"
  }
 },
 "nbformat": 4,
 "nbformat_minor": 5
}
