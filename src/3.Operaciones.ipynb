{
 "cells": [
  {
   "cell_type": "code",
   "execution_count": 1,
   "id": "82559dd1-ce87-4f47-b817-3b8300e517fe",
   "metadata": {},
   "outputs": [],
   "source": [
    "import numpy as np"
   ]
  },
  {
   "cell_type": "code",
   "execution_count": 33,
   "id": "c8393563-0fb6-4713-8cdd-99fecae0c40e",
   "metadata": {},
   "outputs": [],
   "source": [
    "scalar = 5.679\n",
    "vector = np.array([3, 4, 5, 6])\n",
    "matriz = np.array([[1, 2], [3, 4], [5, 6]])\n",
    "tensor = np.array([\n",
    "    [[45, 34, 12, 56], [23, 56, 12, 11]],\n",
    "    [[45, 87, 10, 30], [31, 56, 29, 92]],\n",
    "    [[33, 98, 51, 32], [49, 87, 12, 45]]\n",
    "])"
   ]
  },
  {
   "cell_type": "markdown",
   "id": "10f79e21-19ed-42b3-9f64-d341871328eb",
   "metadata": {},
   "source": [
    "## Transpuesta"
   ]
  },
  {
   "cell_type": "code",
   "execution_count": 17,
   "id": "f5cd6454-3344-4439-a741-5489c7636afb",
   "metadata": {},
   "outputs": [
    {
     "data": {
      "text/plain": [
       "array([3, 4, 5, 6])"
      ]
     },
     "execution_count": 17,
     "metadata": {},
     "output_type": "execute_result"
    }
   ],
   "source": [
    "vector"
   ]
  },
  {
   "cell_type": "code",
   "execution_count": 18,
   "id": "01bf263e-736e-49b6-adf7-959e2f0b5bce",
   "metadata": {},
   "outputs": [
    {
     "data": {
      "text/plain": [
       "array([3, 4, 5, 6])"
      ]
     },
     "execution_count": 18,
     "metadata": {},
     "output_type": "execute_result"
    }
   ],
   "source": [
    "vector.T"
   ]
  },
  {
   "cell_type": "code",
   "execution_count": 19,
   "id": "7dbfce0d-a1bd-4cbe-abaf-c1e60c846863",
   "metadata": {},
   "outputs": [
    {
     "data": {
      "text/plain": [
       "array([[1, 2],\n",
       "       [3, 4],\n",
       "       [5, 6]])"
      ]
     },
     "execution_count": 19,
     "metadata": {},
     "output_type": "execute_result"
    }
   ],
   "source": [
    "matriz"
   ]
  },
  {
   "cell_type": "code",
   "execution_count": 20,
   "id": "ddd05abf-eb77-42ba-85d8-d49397abc9be",
   "metadata": {},
   "outputs": [
    {
     "data": {
      "text/plain": [
       "array([[1, 3, 5],\n",
       "       [2, 4, 6]])"
      ]
     },
     "execution_count": 20,
     "metadata": {},
     "output_type": "execute_result"
    }
   ],
   "source": [
    "matriz.T"
   ]
  },
  {
   "cell_type": "code",
   "execution_count": 21,
   "id": "e7028321-19fa-4023-834a-987140aa7939",
   "metadata": {},
   "outputs": [
    {
     "name": "stdout",
     "output_type": "stream",
     "text": [
      "(3, 2)-(2, 3)\n"
     ]
    }
   ],
   "source": [
    "print(matriz.shape, matriz.T.shape, sep=\"-\")"
   ]
  },
  {
   "cell_type": "markdown",
   "id": "1ca4f84c-77cf-4dcc-a9ed-b5f96c1ad360",
   "metadata": {},
   "source": [
    "## Transposcición de un Tensor"
   ]
  },
  {
   "cell_type": "code",
   "execution_count": 22,
   "id": "3557da46-b346-45f0-90f2-6a86982f5172",
   "metadata": {},
   "outputs": [
    {
     "data": {
      "text/plain": [
       "array([[[45, 34, 12, 56],\n",
       "        [23, 56, 12, 11]],\n",
       "\n",
       "       [[45, 87, 10, 30],\n",
       "        [31, 56, 29, 92]],\n",
       "\n",
       "       [[33, 98, 51, 32],\n",
       "        [49, 87, 12, 45]]])"
      ]
     },
     "execution_count": 22,
     "metadata": {},
     "output_type": "execute_result"
    }
   ],
   "source": [
    "tensor"
   ]
  },
  {
   "cell_type": "code",
   "execution_count": 23,
   "id": "619e4056-a19e-4c97-a8a9-f989a563b96b",
   "metadata": {},
   "outputs": [
    {
     "data": {
      "text/plain": [
       "array([[[45, 45, 33],\n",
       "        [23, 31, 49]],\n",
       "\n",
       "       [[34, 87, 98],\n",
       "        [56, 56, 87]],\n",
       "\n",
       "       [[12, 10, 51],\n",
       "        [12, 29, 12]],\n",
       "\n",
       "       [[56, 30, 32],\n",
       "        [11, 92, 45]]])"
      ]
     },
     "execution_count": 23,
     "metadata": {},
     "output_type": "execute_result"
    }
   ],
   "source": [
    "tensor.T"
   ]
  },
  {
   "cell_type": "code",
   "execution_count": 24,
   "id": "77424979-d27a-4987-b520-1b2271efed0d",
   "metadata": {},
   "outputs": [
    {
     "name": "stdout",
     "output_type": "stream",
     "text": [
      "(3, 2, 4) (4, 2, 3)\n"
     ]
    }
   ],
   "source": [
    "print(tensor.shape, tensor.T.shape)"
   ]
  },
  {
   "cell_type": "code",
   "execution_count": 25,
   "id": "c8c842be-bce6-4113-b15d-c65ceacf558b",
   "metadata": {},
   "outputs": [
    {
     "data": {
      "text/plain": [
       "array([[ True,  True],\n",
       "       [ True,  True],\n",
       "       [ True,  True]])"
      ]
     },
     "execution_count": 25,
     "metadata": {},
     "output_type": "execute_result"
    }
   ],
   "source": [
    "matriz == matriz.T.T"
   ]
  },
  {
   "cell_type": "markdown",
   "id": "0eaf0da6-77b5-45c6-9690-27d7aa49895b",
   "metadata": {},
   "source": [
    "## Suma de matrices"
   ]
  },
  {
   "cell_type": "code",
   "execution_count": 27,
   "id": "93e87809-1055-47e7-b7a2-c53cfc6fb784",
   "metadata": {},
   "outputs": [],
   "source": [
    "A = np.array([[1, 6, 9], [45, 6, 3], [9, 4, 2]])\n",
    "B = np.array([[6, 7, 8], [2, 7, 9], [0, 5, 0]])\n",
    "C = A + B"
   ]
  },
  {
   "cell_type": "code",
   "execution_count": 28,
   "id": "7c984462-ec6e-41a9-b3e4-7f12b6eb2e3b",
   "metadata": {},
   "outputs": [
    {
     "data": {
      "text/plain": [
       "array([[ 1,  6,  9],\n",
       "       [45,  6,  3],\n",
       "       [ 9,  4,  2]])"
      ]
     },
     "execution_count": 28,
     "metadata": {},
     "output_type": "execute_result"
    }
   ],
   "source": [
    "A"
   ]
  },
  {
   "cell_type": "code",
   "execution_count": 29,
   "id": "ddd36468-53ae-4e67-817b-53cab8644b13",
   "metadata": {},
   "outputs": [
    {
     "data": {
      "text/plain": [
       "array([[6, 7, 8],\n",
       "       [2, 7, 9],\n",
       "       [0, 5, 0]])"
      ]
     },
     "execution_count": 29,
     "metadata": {},
     "output_type": "execute_result"
    }
   ],
   "source": [
    "B"
   ]
  },
  {
   "cell_type": "code",
   "execution_count": 30,
   "id": "f1fb49f4-7cf3-4762-a435-a5eec3706ed0",
   "metadata": {},
   "outputs": [
    {
     "data": {
      "text/plain": [
       "array([[ 7, 13, 17],\n",
       "       [47, 13, 12],\n",
       "       [ 9,  9,  2]])"
      ]
     },
     "execution_count": 30,
     "metadata": {},
     "output_type": "execute_result"
    }
   ],
   "source": [
    "C"
   ]
  },
  {
   "cell_type": "code",
   "execution_count": 31,
   "id": "fd5e0bf2-0c96-41aa-8b47-89d8dd32bd8d",
   "metadata": {},
   "outputs": [
    {
     "data": {
      "text/plain": [
       "array([[1, 2],\n",
       "       [3, 4],\n",
       "       [5, 6]])"
      ]
     },
     "execution_count": 31,
     "metadata": {},
     "output_type": "execute_result"
    }
   ],
   "source": [
    "matriz"
   ]
  },
  {
   "cell_type": "code",
   "execution_count": 34,
   "id": "2ab6cb95-a501-4bb5-86ed-4ce35e6fc4f8",
   "metadata": {},
   "outputs": [
    {
     "data": {
      "text/plain": [
       "array([[ 6.679,  7.679],\n",
       "       [ 8.679,  9.679],\n",
       "       [10.679, 11.679]])"
      ]
     },
     "execution_count": 34,
     "metadata": {},
     "output_type": "execute_result"
    }
   ],
   "source": [
    "matriz + scalar"
   ]
  }
 ],
 "metadata": {
  "kernelspec": {
   "display_name": "Python 3 (ipykernel)",
   "language": "python",
   "name": "python3"
  },
  "language_info": {
   "codemirror_mode": {
    "name": "ipython",
    "version": 3
   },
   "file_extension": ".py",
   "mimetype": "text/x-python",
   "name": "python",
   "nbconvert_exporter": "python",
   "pygments_lexer": "ipython3",
   "version": "3.9.12"
  }
 },
 "nbformat": 4,
 "nbformat_minor": 5
}
