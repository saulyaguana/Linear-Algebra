{
 "cells": [
  {
   "cell_type": "code",
   "execution_count": 1,
   "id": "b475b2c8-e9bf-4038-b670-090b7a83ace9",
   "metadata": {},
   "outputs": [],
   "source": [
    "import numpy as np"
   ]
  },
  {
   "cell_type": "code",
   "execution_count": 2,
   "id": "882ba8d3-b713-4297-b974-b0358f878ee6",
   "metadata": {},
   "outputs": [],
   "source": [
    "scalar = 5.679\n",
    "vector = np.array([3, 4, 5])\n",
    "matriz = np.array([[1, 2], [3, 4], [5, 6]])"
   ]
  },
  {
   "cell_type": "code",
   "execution_count": 3,
   "id": "ef0ca50a-1993-4aa5-b173-c6de0a6496b4",
   "metadata": {},
   "outputs": [
    {
     "data": {
      "text/plain": [
       "array([3, 4, 5])"
      ]
     },
     "execution_count": 3,
     "metadata": {},
     "output_type": "execute_result"
    }
   ],
   "source": [
    "vector"
   ]
  },
  {
   "cell_type": "code",
   "execution_count": 4,
   "id": "9fc7d60d-72cc-4bd6-b9b4-b4785eacfabf",
   "metadata": {},
   "outputs": [
    {
     "data": {
      "text/plain": [
       "array([[1, 2],\n",
       "       [3, 4],\n",
       "       [5, 6]])"
      ]
     },
     "execution_count": 4,
     "metadata": {},
     "output_type": "execute_result"
    }
   ],
   "source": [
    "matriz"
   ]
  },
  {
   "cell_type": "code",
   "execution_count": 5,
   "id": "010620b0-932f-4c31-8bb9-c6e3a3c1d074",
   "metadata": {},
   "outputs": [
    {
     "data": {
      "text/plain": [
       "array([[1, 3, 5],\n",
       "       [2, 4, 6]])"
      ]
     },
     "execution_count": 5,
     "metadata": {},
     "output_type": "execute_result"
    }
   ],
   "source": [
    "matriz.T"
   ]
  },
  {
   "cell_type": "markdown",
   "id": "5aa3b44e-1d80-4f95-9b05-48f8ce970e02",
   "metadata": {},
   "source": [
    "+ Lo que pasa aquí es que el vector se sumó fila por fila a la matriz\n",
    "+ Esto es broadcasting: extender la dimension de menor tamaño para completar la de mayor tamaño"
   ]
  },
  {
   "cell_type": "code",
   "execution_count": 8,
   "id": "bc357d29-6ad5-4914-91e0-8abd539ca87c",
   "metadata": {},
   "outputs": [],
   "source": [
    "A = vector + matriz.T"
   ]
  },
  {
   "cell_type": "code",
   "execution_count": 9,
   "id": "46764945-e95d-4f59-a718-261edf94419a",
   "metadata": {},
   "outputs": [
    {
     "name": "stdout",
     "output_type": "stream",
     "text": [
      "[[ 4  7 10]\n",
      " [ 5  8 11]]\n"
     ]
    }
   ],
   "source": [
    "print(A)"
   ]
  }
 ],
 "metadata": {
  "kernelspec": {
   "display_name": "Python 3 (ipykernel)",
   "language": "python",
   "name": "python3"
  },
  "language_info": {
   "codemirror_mode": {
    "name": "ipython",
    "version": 3
   },
   "file_extension": ".py",
   "mimetype": "text/x-python",
   "name": "python",
   "nbconvert_exporter": "python",
   "pygments_lexer": "ipython3",
   "version": "3.9.12"
  }
 },
 "nbformat": 4,
 "nbformat_minor": 5
}
