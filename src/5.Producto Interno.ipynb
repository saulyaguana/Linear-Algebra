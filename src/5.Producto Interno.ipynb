{
 "cells": [
  {
   "cell_type": "markdown",
   "id": "eb13ebb0-b1c5-4c32-867f-bae213d87c80",
   "metadata": {},
   "source": [
    "Producto interno no el lo mismo que multiplicar una matriz por un vector."
   ]
  },
  {
   "cell_type": "code",
   "execution_count": 2,
   "id": "6b898716-1599-4291-b72c-704c995f1f91",
   "metadata": {},
   "outputs": [],
   "source": [
    "import numpy as np"
   ]
  },
  {
   "cell_type": "code",
   "execution_count": 4,
   "id": "cdaad513-dda1-45f7-8afe-8f2f9492f331",
   "metadata": {},
   "outputs": [],
   "source": [
    "scalar = 5.679\n",
    "vector = np.array([2, 3])\n",
    "matriz = np.array([[1, 2], [3, 4], [5, 6]])"
   ]
  },
  {
   "cell_type": "code",
   "execution_count": 6,
   "id": "990faee8-3300-475b-8c7f-82200b10e935",
   "metadata": {},
   "outputs": [
    {
     "data": {
      "text/plain": [
       "array([2, 3])"
      ]
     },
     "execution_count": 6,
     "metadata": {},
     "output_type": "execute_result"
    }
   ],
   "source": [
    "vector"
   ]
  },
  {
   "cell_type": "code",
   "execution_count": 7,
   "id": "a89d0cd2-0b09-482a-8c74-21389e7a9d93",
   "metadata": {},
   "outputs": [
    {
     "data": {
      "text/plain": [
       "array([[1, 2],\n",
       "       [3, 4],\n",
       "       [5, 6]])"
      ]
     },
     "execution_count": 7,
     "metadata": {},
     "output_type": "execute_result"
    }
   ],
   "source": [
    "matriz"
   ]
  },
  {
   "cell_type": "code",
   "execution_count": 14,
   "id": "f670dc60-9a7f-486a-8c21-a8ef29c0b1f4",
   "metadata": {},
   "outputs": [],
   "source": [
    "# Broadcasting\n",
    "# Matriz por vector\n",
    "A = matriz * vector"
   ]
  },
  {
   "cell_type": "code",
   "execution_count": 15,
   "id": "fa41a2c5-68f1-440e-b245-8ce4a9885059",
   "metadata": {},
   "outputs": [
    {
     "data": {
      "text/plain": [
       "array([[ 2,  6],\n",
       "       [ 6, 12],\n",
       "       [10, 18]])"
      ]
     },
     "execution_count": 15,
     "metadata": {},
     "output_type": "execute_result"
    }
   ],
   "source": [
    "A"
   ]
  },
  {
   "cell_type": "code",
   "execution_count": 16,
   "id": "d44ddf0e-6e53-4d12-8efb-e46ae748cf87",
   "metadata": {},
   "outputs": [],
   "source": [
    "# Producto interno\n",
    "B = matriz.dot(vector)"
   ]
  },
  {
   "cell_type": "code",
   "execution_count": 17,
   "id": "b4eb2b50-cd6a-4f9d-8951-1ab4c845109c",
   "metadata": {},
   "outputs": [
    {
     "data": {
      "text/plain": [
       "array([ 8, 18, 28])"
      ]
     },
     "execution_count": 17,
     "metadata": {},
     "output_type": "execute_result"
    }
   ],
   "source": [
    "B"
   ]
  },
  {
   "cell_type": "markdown",
   "id": "d9bce187-87d3-430b-9838-590d73053945",
   "metadata": {},
   "source": [
    "### Hay 2 formas de usar la función producto interno"
   ]
  },
  {
   "cell_type": "code",
   "execution_count": 20,
   "id": "5e6ec6c6-6916-4873-8746-ce46b9fc33ec",
   "metadata": {},
   "outputs": [
    {
     "data": {
      "text/plain": [
       "array([ 8, 18, 28])"
      ]
     },
     "execution_count": 20,
     "metadata": {},
     "output_type": "execute_result"
    }
   ],
   "source": [
    "# 1\n",
    "matriz.dot(vector)"
   ]
  },
  {
   "cell_type": "code",
   "execution_count": 21,
   "id": "c8e84e25-96b3-4c15-b47a-edf0d2791e91",
   "metadata": {},
   "outputs": [
    {
     "data": {
      "text/plain": [
       "array([ 8, 18, 28])"
      ]
     },
     "execution_count": 21,
     "metadata": {},
     "output_type": "execute_result"
    }
   ],
   "source": [
    "# 2\n",
    "np.dot(matriz, vector)"
   ]
  }
 ],
 "metadata": {
  "kernelspec": {
   "display_name": "Python 3 (ipykernel)",
   "language": "python",
   "name": "python3"
  },
  "language_info": {
   "codemirror_mode": {
    "name": "ipython",
    "version": 3
   },
   "file_extension": ".py",
   "mimetype": "text/x-python",
   "name": "python",
   "nbconvert_exporter": "python",
   "pygments_lexer": "ipython3",
   "version": "3.9.12"
  }
 },
 "nbformat": 4,
 "nbformat_minor": 5
}
