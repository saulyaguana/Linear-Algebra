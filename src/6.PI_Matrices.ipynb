{
 "cells": [
  {
   "cell_type": "code",
   "execution_count": 1,
   "id": "34890654-8708-4ec9-9511-4017b482fb46",
   "metadata": {},
   "outputs": [],
   "source": [
    "import numpy as np"
   ]
  },
  {
   "cell_type": "code",
   "execution_count": 2,
   "id": "e71c3b07-c9ce-40bc-980d-0a0bfc061387",
   "metadata": {},
   "outputs": [],
   "source": [
    "A = np.array([[1, 2, 3], [4, 5, 6], [7, 8, 9], [10, 11, 12]])\n",
    "B = np.array([[2, 3], [5, 7], [11, 13]])"
   ]
  },
  {
   "cell_type": "code",
   "execution_count": 7,
   "id": "93e7b5c6-744f-44ea-acd2-141fba9aa8bd",
   "metadata": {},
   "outputs": [
    {
     "name": "stdout",
     "output_type": "stream",
     "text": [
      "[[ 1  2  3]\n",
      " [ 4  5  6]\n",
      " [ 7  8  9]\n",
      " [10 11 12]]\n",
      "\n",
      "(4, 3)\n"
     ]
    }
   ],
   "source": [
    "print(A)\n",
    "print()\n",
    "print(A.shape)"
   ]
  },
  {
   "cell_type": "code",
   "execution_count": 8,
   "id": "a7323cf8-85f8-48c5-9e81-7bcc70f157f5",
   "metadata": {},
   "outputs": [
    {
     "name": "stdout",
     "output_type": "stream",
     "text": [
      "[[ 2  3]\n",
      " [ 5  7]\n",
      " [11 13]]\n",
      "\n",
      "(3, 2)\n"
     ]
    }
   ],
   "source": [
    "print(B)\n",
    "print()\n",
    "print(B.shape)"
   ]
  },
  {
   "cell_type": "code",
   "execution_count": 11,
   "id": "52913c5e-e74e-4b25-b19f-1dff1d9b8fcd",
   "metadata": {},
   "outputs": [],
   "source": [
    "# Multiplicación de matrices\n",
    "# Columnas == Filas\n",
    "C = A.dot(B)"
   ]
  },
  {
   "cell_type": "code",
   "execution_count": 10,
   "id": "0c2e6dfd-16e1-435c-9865-241368612e29",
   "metadata": {},
   "outputs": [
    {
     "name": "stdout",
     "output_type": "stream",
     "text": [
      "[[ 45  56]\n",
      " [ 99 125]\n",
      " [153 194]\n",
      " [207 263]]\n",
      "\n",
      "(4, 2)\n"
     ]
    }
   ],
   "source": [
    "print(C)\n",
    "print()\n",
    "print(C.shape)"
   ]
  }
 ],
 "metadata": {
  "kernelspec": {
   "display_name": "Python 3 (ipykernel)",
   "language": "python",
   "name": "python3"
  },
  "language_info": {
   "codemirror_mode": {
    "name": "ipython",
    "version": 3
   },
   "file_extension": ".py",
   "mimetype": "text/x-python",
   "name": "python",
   "nbconvert_exporter": "python",
   "pygments_lexer": "ipython3",
   "version": "3.9.12"
  }
 },
 "nbformat": 4,
 "nbformat_minor": 5
}
