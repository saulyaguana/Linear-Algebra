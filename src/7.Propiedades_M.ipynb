{
 "cells": [
  {
   "cell_type": "markdown",
   "id": "68108958-f423-4990-94c4-205751da2199",
   "metadata": {},
   "source": [
    "# Propiedades del producto interno\n",
    "## Asociativa\n",
    "\n",
    "A x (B x C) = (A x B) x C\n",
    "\n",
    "## Distributiva\n",
    "\n",
    "A x (B + C) = (A x B) + (A x C)\n",
    "\n",
    "## Conmutativa (Casi nunca se cumple en matrices)\n",
    "\n",
    "A x B != B x C"
   ]
  },
  {
   "cell_type": "code",
   "execution_count": 2,
   "id": "754388a4-f650-48fc-ba4b-e87ec858d6da",
   "metadata": {},
   "outputs": [],
   "source": [
    "import numpy as np"
   ]
  },
  {
   "cell_type": "code",
   "execution_count": 6,
   "id": "b0ffae97-20fa-4f4c-8b68-1f4077f81746",
   "metadata": {},
   "outputs": [],
   "source": [
    "A = np.array([[2, 3], [5, 7], [11, 13]])\n",
    "B = np.array([[1, 3], [2, 1]])\n",
    "C = np.array([[3, 1], [4, 2]])"
   ]
  },
  {
   "cell_type": "code",
   "execution_count": 7,
   "id": "0c2da1fc-290a-46a1-97bc-f6aea42e693f",
   "metadata": {},
   "outputs": [
    {
     "data": {
      "text/plain": [
       "array([[ 60,  26],\n",
       "       [145,  63],\n",
       "       [295, 129]])"
      ]
     },
     "execution_count": 7,
     "metadata": {},
     "output_type": "execute_result"
    }
   ],
   "source": [
    "# Asociativa\n",
    "\n",
    "A.dot(B.dot(C))"
   ]
  },
  {
   "cell_type": "code",
   "execution_count": 8,
   "id": "8e4a823a-0c5b-42fe-b55c-77a9b3bd7cf5",
   "metadata": {},
   "outputs": [
    {
     "data": {
      "text/plain": [
       "array([[ 60,  26],\n",
       "       [145,  63],\n",
       "       [295, 129]])"
      ]
     },
     "execution_count": 8,
     "metadata": {},
     "output_type": "execute_result"
    }
   ],
   "source": [
    "A.dot(B).dot(C)"
   ]
  },
  {
   "cell_type": "code",
   "execution_count": 9,
   "id": "cb5be79d-4db1-49e0-84a0-e12e3f8f4eb4",
   "metadata": {},
   "outputs": [
    {
     "data": {
      "text/plain": [
       "array([[ 26,  17],\n",
       "       [ 62,  41],\n",
       "       [122,  83]])"
      ]
     },
     "execution_count": 9,
     "metadata": {},
     "output_type": "execute_result"
    }
   ],
   "source": [
    "# Distributiva\n",
    "\n",
    "A.dot(B + C)"
   ]
  },
  {
   "cell_type": "code",
   "execution_count": 10,
   "id": "f9835e3a-8ee6-4fa2-b7d5-3d104119d5e7",
   "metadata": {},
   "outputs": [
    {
     "data": {
      "text/plain": [
       "array([[ 26,  17],\n",
       "       [ 62,  41],\n",
       "       [122,  83]])"
      ]
     },
     "execution_count": 10,
     "metadata": {},
     "output_type": "execute_result"
    }
   ],
   "source": [
    "A.dot(B) + A.dot(C)"
   ]
  },
  {
   "cell_type": "code",
   "execution_count": 11,
   "id": "3d0c8056-079b-4e2e-a3f1-519e3123fc20",
   "metadata": {},
   "outputs": [
    {
     "data": {
      "text/plain": [
       "array([[ True,  True],\n",
       "       [ True,  True],\n",
       "       [ True,  True]])"
      ]
     },
     "execution_count": 11,
     "metadata": {},
     "output_type": "execute_result"
    }
   ],
   "source": [
    "A.dot(B) + A.dot(C) == A.dot(C + B)"
   ]
  },
  {
   "cell_type": "code",
   "execution_count": 16,
   "id": "33443acb-adfe-4f22-a843-915d82207330",
   "metadata": {},
   "outputs": [
    {
     "data": {
      "text/plain": [
       "array([[ 5, 10],\n",
       "       [ 8, 14]])"
      ]
     },
     "execution_count": 16,
     "metadata": {},
     "output_type": "execute_result"
    }
   ],
   "source": [
    "# Conmutativa\n",
    "\n",
    "C.dot(B)"
   ]
  },
  {
   "cell_type": "code",
   "execution_count": 15,
   "id": "c12f255f-bdff-4c8a-9f88-cd4e1acc0162",
   "metadata": {},
   "outputs": [
    {
     "data": {
      "text/plain": [
       "array([[15,  7],\n",
       "       [10,  4]])"
      ]
     },
     "execution_count": 15,
     "metadata": {},
     "output_type": "execute_result"
    }
   ],
   "source": [
    "B.dot(C)"
   ]
  },
  {
   "cell_type": "code",
   "execution_count": 17,
   "id": "2a56cd55-3386-4426-979e-190c22e2ee0b",
   "metadata": {},
   "outputs": [
    {
     "data": {
      "text/plain": [
       "array([[False, False],\n",
       "       [False, False]])"
      ]
     },
     "execution_count": 17,
     "metadata": {},
     "output_type": "execute_result"
    }
   ],
   "source": [
    "C.dot(B) == B.dot(C)"
   ]
  },
  {
   "cell_type": "markdown",
   "id": "ca8a187e-92be-48bc-a9c8-3b7005c57aff",
   "metadata": {},
   "source": [
    "### La multiplicación de vectores si es conmutativa"
   ]
  },
  {
   "cell_type": "code",
   "execution_count": 18,
   "id": "b212d49b-2e42-4fa8-a147-deabd3085fc7",
   "metadata": {},
   "outputs": [],
   "source": [
    "vector = np.array([[2], [7]])\n",
    "vector2 = np.array([[3], [5]])"
   ]
  },
  {
   "cell_type": "code",
   "execution_count": 20,
   "id": "6199a379-6fe8-47f5-9c20-bda7f8b99d2e",
   "metadata": {},
   "outputs": [
    {
     "data": {
      "text/plain": [
       "array([[41]])"
      ]
     },
     "execution_count": 20,
     "metadata": {},
     "output_type": "execute_result"
    }
   ],
   "source": [
    "vector.T.dot(vector2)"
   ]
  },
  {
   "cell_type": "code",
   "execution_count": 21,
   "id": "3cdf2ff8-16e3-48bd-96f9-f3c92f1f65bf",
   "metadata": {},
   "outputs": [
    {
     "data": {
      "text/plain": [
       "array([[41]])"
      ]
     },
     "execution_count": 21,
     "metadata": {},
     "output_type": "execute_result"
    }
   ],
   "source": [
    "vector2.T.dot(vector)"
   ]
  },
  {
   "cell_type": "markdown",
   "id": "17772158-87e2-4847-aaf2-f3efaaa2f691",
   "metadata": {},
   "source": [
    "## Multiplicación de matrices"
   ]
  },
  {
   "cell_type": "code",
   "execution_count": 22,
   "id": "25e21daa-dc8c-487a-baf7-c3910b8ba0db",
   "metadata": {},
   "outputs": [],
   "source": [
    "Matriz = np.array([[5, 3, 7, 11], [0, 4, 0, 1]])\n",
    "matriz = np.array([[3, 4], [7, 6], [0, 9], [4, 6]])"
   ]
  },
  {
   "cell_type": "code",
   "execution_count": 24,
   "id": "90105edb-afc4-4e8c-a550-492fcfebb79c",
   "metadata": {},
   "outputs": [
    {
     "data": {
      "text/plain": [
       "array([[ 5,  3,  7, 11],\n",
       "       [ 0,  4,  0,  1]])"
      ]
     },
     "execution_count": 24,
     "metadata": {},
     "output_type": "execute_result"
    }
   ],
   "source": [
    "Matriz"
   ]
  },
  {
   "cell_type": "code",
   "execution_count": 25,
   "id": "68e2c9e6-aeaf-4eee-b573-d1acb4048558",
   "metadata": {},
   "outputs": [
    {
     "data": {
      "text/plain": [
       "array([[3, 4],\n",
       "       [7, 6],\n",
       "       [0, 9],\n",
       "       [4, 6]])"
      ]
     },
     "execution_count": 25,
     "metadata": {},
     "output_type": "execute_result"
    }
   ],
   "source": [
    "matriz"
   ]
  },
  {
   "cell_type": "code",
   "execution_count": 23,
   "id": "606bc5d2-f50d-44c8-8791-c0439c47dde6",
   "metadata": {},
   "outputs": [
    {
     "data": {
      "text/plain": [
       "array([[ 80, 167],\n",
       "       [ 32,  30]])"
      ]
     },
     "execution_count": 23,
     "metadata": {},
     "output_type": "execute_result"
    }
   ],
   "source": [
    "Matriz.dot(matriz)"
   ]
  },
  {
   "cell_type": "code",
   "execution_count": 30,
   "id": "f1e13cbe-661e-4843-9db6-bb9379dba75e",
   "metadata": {},
   "outputs": [
    {
     "data": {
      "text/plain": [
       "array([[15, 25, 21, 37],\n",
       "       [35, 45, 49, 83],\n",
       "       [ 0, 36,  0,  9],\n",
       "       [20, 36, 28, 50]])"
      ]
     },
     "execution_count": 30,
     "metadata": {},
     "output_type": "execute_result"
    }
   ],
   "source": [
    "matriz.dot(Matriz)"
   ]
  }
 ],
 "metadata": {
  "kernelspec": {
   "display_name": "Python 3 (ipykernel)",
   "language": "python",
   "name": "python3"
  },
  "language_info": {
   "codemirror_mode": {
    "name": "ipython",
    "version": 3
   },
   "file_extension": ".py",
   "mimetype": "text/x-python",
   "name": "python",
   "nbconvert_exporter": "python",
   "pygments_lexer": "ipython3",
   "version": "3.9.12"
  }
 },
 "nbformat": 4,
 "nbformat_minor": 5
}
