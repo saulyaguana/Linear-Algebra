{
 "cells": [
  {
   "cell_type": "markdown",
   "id": "99a111ed-91e9-4a0e-8ea6-99b1d13622ff",
   "metadata": {},
   "source": [
    "# Transposición de Productos de Matrices"
   ]
  },
  {
   "cell_type": "code",
   "execution_count": 1,
   "id": "cad39843-e103-4609-af1e-636dd627684f",
   "metadata": {},
   "outputs": [],
   "source": [
    "import numpy as np"
   ]
  },
  {
   "cell_type": "code",
   "execution_count": 2,
   "id": "3a66ac07-2652-47a8-a968-9d67688594a3",
   "metadata": {},
   "outputs": [],
   "source": [
    "A = np.array([[2, 3], [5, 7], [11, 13]])\n",
    "B = np.array([[1, 3], [2, 1]])"
   ]
  },
  {
   "cell_type": "code",
   "execution_count": 6,
   "id": "0fc0f3f0-551d-4992-ae47-70c18e4c057a",
   "metadata": {},
   "outputs": [
    {
     "name": "stdout",
     "output_type": "stream",
     "text": [
      "[[ 2  3]\n",
      " [ 5  7]\n",
      " [11 13]]\n",
      "\n",
      "(3, 2)\n"
     ]
    }
   ],
   "source": [
    "print(A)\n",
    "print()\n",
    "print(A.shape)"
   ]
  },
  {
   "cell_type": "code",
   "execution_count": 7,
   "id": "7217571f-7dda-45a7-ab5f-d1df326311fa",
   "metadata": {},
   "outputs": [
    {
     "name": "stdout",
     "output_type": "stream",
     "text": [
      "[[1 3]\n",
      " [2 1]]\n",
      "\n",
      "(2, 2)\n"
     ]
    }
   ],
   "source": [
    "print(B)\n",
    "print()\n",
    "print(B.shape)"
   ]
  },
  {
   "cell_type": "code",
   "execution_count": 8,
   "id": "b3cebaa1-ddc6-4e33-b8e0-848721cd6fd3",
   "metadata": {},
   "outputs": [
    {
     "data": {
      "text/plain": [
       "array([[ 8,  9],\n",
       "       [19, 22],\n",
       "       [37, 46]])"
      ]
     },
     "execution_count": 8,
     "metadata": {},
     "output_type": "execute_result"
    }
   ],
   "source": [
    "A.dot(B)"
   ]
  },
  {
   "cell_type": "code",
   "execution_count": 9,
   "id": "a26c8ef0-4979-4984-a313-ae30d989cb9e",
   "metadata": {},
   "outputs": [
    {
     "data": {
      "text/plain": [
       "array([[ 8, 19, 37],\n",
       "       [ 9, 22, 46]])"
      ]
     },
     "execution_count": 9,
     "metadata": {},
     "output_type": "execute_result"
    }
   ],
   "source": [
    "A.dot(B).T"
   ]
  },
  {
   "cell_type": "code",
   "execution_count": 16,
   "id": "b38cdd73-1aa0-40e2-ab4a-a5a407dd95cb",
   "metadata": {},
   "outputs": [
    {
     "data": {
      "text/plain": [
       "array([[ 8, 19, 37],\n",
       "       [ 9, 22, 46]])"
      ]
     },
     "execution_count": 16,
     "metadata": {},
     "output_type": "execute_result"
    }
   ],
   "source": [
    "B.T.dot(A.T)"
   ]
  },
  {
   "cell_type": "code",
   "execution_count": 17,
   "id": "29cf2877-14a3-4308-98ce-12abbfc4c3d5",
   "metadata": {},
   "outputs": [
    {
     "data": {
      "text/plain": [
       "array([[ True,  True,  True],\n",
       "       [ True,  True,  True]])"
      ]
     },
     "execution_count": 17,
     "metadata": {},
     "output_type": "execute_result"
    }
   ],
   "source": [
    "B.T.dot(A.T) == A.dot(B).T"
   ]
  }
 ],
 "metadata": {
  "kernelspec": {
   "display_name": "Python 3 (ipykernel)",
   "language": "python",
   "name": "python3"
  },
  "language_info": {
   "codemirror_mode": {
    "name": "ipython",
    "version": 3
   },
   "file_extension": ".py",
   "mimetype": "text/x-python",
   "name": "python",
   "nbconvert_exporter": "python",
   "pygments_lexer": "ipython3",
   "version": "3.9.12"
  }
 },
 "nbformat": 4,
 "nbformat_minor": 5
}
